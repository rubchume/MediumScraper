{
 "cells": [
  {
   "cell_type": "markdown",
   "id": "6e07bc9a",
   "metadata": {
    "toc": true
   },
   "source": [
    "<h1>Table of Contents<span class=\"tocSkip\"></span></h1>\n",
    "<div class=\"toc\"><ul class=\"toc-item\"></ul></div>"
   ]
  },
  {
   "cell_type": "markdown",
   "id": "38711bac",
   "metadata": {},
   "source": [
    "Create S3 bucket"
   ]
  },
  {
   "cell_type": "code",
   "execution_count": 1,
   "id": "86e44645",
   "metadata": {},
   "outputs": [],
   "source": [
    "from aws_deployment.aws_deployer import AwsDeployer\n",
    "from aws_deployment.aws_lambda_manager import AwsLambdaManager"
   ]
  },
  {
   "cell_type": "code",
   "execution_count": 2,
   "id": "ce8d709e",
   "metadata": {},
   "outputs": [],
   "source": [
    "aws_deployer = AwsDeployer()"
   ]
  },
  {
   "cell_type": "code",
   "execution_count": null,
   "id": "d2e36199",
   "metadata": {},
   "outputs": [],
   "source": [
    "aws_deployer.cleanup()"
   ]
  },
  {
   "cell_type": "code",
   "execution_count": 3,
   "id": "342c99c8",
   "metadata": {},
   "outputs": [
    {
     "name": "stdout",
     "output_type": "stream",
     "text": [
      "2021-09-09 13:04:09,272 - general_logger - INFO - Create bucket and build layer\n",
      "2021-09-09 13:04:10,849 - general_logger - INFO - Layer was already built and uploaded\n",
      "2021-09-09 13:04:10,850 - general_logger - INFO - Prepare code directory\n",
      "2021-09-09 13:04:10,944 - general_logger - INFO - Package\n",
      "2021-09-09 13:04:13,599 - general_logger - INFO - Deploy stack\n"
     ]
    }
   ],
   "source": [
    "aws_deployer.full_deploy()"
   ]
  },
  {
   "cell_type": "code",
   "execution_count": 4,
   "id": "2a9987dd",
   "metadata": {},
   "outputs": [],
   "source": [
    "manager = AwsLambdaManager()\n",
    "response = manager.invoke(\n",
    "    dict(\n",
    "        search_term=\"Pokemon\",\n",
    "        num_articles=\"123\",\n",
    "        search_id=\"my_uni3que_id\"\n",
    "    )\n",
    ")"
   ]
  },
  {
   "cell_type": "code",
   "execution_count": 5,
   "id": "89cc8e91",
   "metadata": {},
   "outputs": [
    {
     "name": "stdout",
     "output_type": "stream",
     "text": [
      "START RequestId: dc168dc1-7036-472c-8f8b-9e584a7d55c7 Version: $LATEST\n",
      "OpenBLAS WARNING - could not determine the L2 cache size on this system, assuming 256k\n",
      "[INFO]\t2021-09-09T11:05:02.974Z\t\tFound credentials in environment variables.\n",
      "[INFO]\t2021-09-09T11:05:03.047Z\tdc168dc1-7036-472c-8f8b-9e584a7d55c7\tScrape Medium articles\n",
      "[INFO]\t2021-09-09T11:05:03.047Z\tdc168dc1-7036-472c-8f8b-9e584a7d55c7\tSearch term: Pokemon\n",
      "[INFO]\t2021-09-09T11:05:03.047Z\tdc168dc1-7036-472c-8f8b-9e584a7d55c7\tNumber of articles: 123\n",
      "[INFO]\t2021-09-09T11:05:03.047Z\tdc168dc1-7036-472c-8f8b-9e584a7d55c7\tSearch unique identifier: my_uni3que_id\n",
      "[INFO]\t2021-09-09T11:05:03.047Z\tdc168dc1-7036-472c-8f8b-9e584a7d55c7\tUse bucket medium-scraper-bucket\n",
      "[INFO]\t2021-09-09T11:05:03.047Z\tdc168dc1-7036-472c-8f8b-9e584a7d55c7\tFile name: results/my_uni3que_id.txt\n",
      "[INFO]\t2021-09-09T11:05:03.357Z\tdc168dc1-7036-472c-8f8b-9e584a7d55c7\tOperation completed\n",
      "END RequestId: dc168dc1-7036-472c-8f8b-9e584a7d55c7\n",
      "REPORT RequestId: dc168dc1-7036-472c-8f8b-9e584a7d55c7\tDuration: 311.97 ms\tBilled Duration: 312 ms\tMemory Size: 128 MB\tMax Memory Used: 128 MB\tInit Duration: 1117.02 ms\t\n",
      "XRAY TraceId: 1-6139ea5d-257b49217cab4a9460ca3345\tSegmentId: 53e35a342cf9cf4f\tSampled: true\t\n",
      "\n"
     ]
    }
   ],
   "source": [
    "print(response[\"LogResult\"])"
   ]
  }
 ],
 "metadata": {
  "kernelspec": {
   "display_name": "Python 3 (ipykernel)",
   "language": "python",
   "name": "python3"
  },
  "language_info": {
   "codemirror_mode": {
    "name": "ipython",
    "version": 3
   },
   "file_extension": ".py",
   "mimetype": "text/x-python",
   "name": "python",
   "nbconvert_exporter": "python",
   "pygments_lexer": "ipython3",
   "version": "3.8.5"
  },
  "toc": {
   "base_numbering": 1,
   "nav_menu": {},
   "number_sections": true,
   "sideBar": true,
   "skip_h1_title": false,
   "title_cell": "Table of Contents",
   "title_sidebar": "Contents",
   "toc_cell": true,
   "toc_position": {},
   "toc_section_display": true,
   "toc_window_display": false
  }
 },
 "nbformat": 4,
 "nbformat_minor": 5
}
