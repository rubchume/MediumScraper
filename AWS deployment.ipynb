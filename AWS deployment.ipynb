{
 "cells": [
  {
   "cell_type": "markdown",
   "id": "6e07bc9a",
   "metadata": {
    "toc": true
   },
   "source": [
    "<h1>Table of Contents<span class=\"tocSkip\"></span></h1>\n",
    "<div class=\"toc\"><ul class=\"toc-item\"></ul></div>"
   ]
  },
  {
   "cell_type": "markdown",
   "id": "38711bac",
   "metadata": {},
   "source": [
    "Create S3 bucket"
   ]
  },
  {
   "cell_type": "code",
   "execution_count": 1,
   "id": "86e44645",
   "metadata": {},
   "outputs": [],
   "source": [
    "from aws_deployment.aws_deployer import AwsDeployer\n",
    "from aws_deployment.aws_lambda_manager import AwsLambdaManager"
   ]
  },
  {
   "cell_type": "code",
   "execution_count": null,
   "id": "ce8d709e",
   "metadata": {},
   "outputs": [],
   "source": [
    "aws_deployer = AwsDeployer()\n"
   ]
  },
  {
   "cell_type": "code",
   "execution_count": null,
   "id": "d2e36199",
   "metadata": {},
   "outputs": [],
   "source": [
    "aws_deployer.cleanup()"
   ]
  },
  {
   "cell_type": "code",
   "execution_count": null,
   "id": "342c99c8",
   "metadata": {},
   "outputs": [],
   "source": [
    "aws_deployer.full_deploy()"
   ]
  },
  {
   "cell_type": "code",
   "execution_count": 3,
   "id": "2a9987dd",
   "metadata": {},
   "outputs": [
    {
     "data": {
      "text/plain": [
       "{'ResponseMetadata': {'RequestId': 'ef1f4945-30f0-4f34-9a3c-67b46f6de43a',\n",
       "  'HTTPStatusCode': 200,\n",
       "  'HTTPHeaders': {'date': 'Tue, 31 Aug 2021 17:29:40 GMT',\n",
       "   'content-type': 'application/json',\n",
       "   'content-length': '79',\n",
       "   'connection': 'keep-alive',\n",
       "   'x-amzn-requestid': 'ef1f4945-30f0-4f34-9a3c-67b46f6de43a',\n",
       "   'x-amzn-remapped-content-length': '0',\n",
       "   'x-amz-executed-version': '$LATEST',\n",
       "   'x-amz-log-result': 'U1RBUlQgUmVxdWVzdElkOiBlZjFmNDk0NS0zMGYwLTRmMzQtOWEzYy02N2I0NmY2ZGU0M2EgVmVyc2lvbjogJExBVEVTVApbSU5GT10JMjAyMS0wOC0zMVQxNzoyOTo0MC4xMzZaCWVmMWY0OTQ1LTMwZjAtNGYzNC05YTNjLTY3YjQ2ZjZkZTQzYQlTY3JhcGUgTWVkaXVtIGFydGljbGVzCltJTkZPXQkyMDIxLTA4LTMxVDE3OjI5OjQwLjEzNloJZWYxZjQ5NDUtMzBmMC00ZjM0LTlhM2MtNjdiNDZmNmRlNDNhCVNlYXJjaCB0ZXJtOiBQb2tlbW9uCltJTkZPXQkyMDIxLTA4LTMxVDE3OjI5OjQwLjEzN1oJZWYxZjQ5NDUtMzBmMC00ZjM0LTlhM2MtNjdiNDZmNmRlNDNhCU51bWJlciBvZiBhcnRpY2xlczogMTIzCltJTkZPXQkyMDIxLTA4LTMxVDE3OjI5OjQwLjEzN1oJZWYxZjQ5NDUtMzBmMC00ZjM0LTlhM2MtNjdiNDZmNmRlNDNhCVNlYXJjaCB1bmlxdWUgaWRlbnRpZmllcjogbXlfdW5pM3F1ZV9pZApFTkQgUmVxdWVzdElkOiBlZjFmNDk0NS0zMGYwLTRmMzQtOWEzYy02N2I0NmY2ZGU0M2EKUkVQT1JUIFJlcXVlc3RJZDogZWYxZjQ5NDUtMzBmMC00ZjM0LTlhM2MtNjdiNDZmNmRlNDNhCUR1cmF0aW9uOiAxLjU5IG1zCUJpbGxlZCBEdXJhdGlvbjogMiBtcwlNZW1vcnkgU2l6ZTogMTI4IE1CCU1heCBNZW1vcnkgVXNlZDogNTUgTUIJClhSQVkgVHJhY2VJZDogMS02MTJlNjcwNC02MWRlMzRmNTMyNjQ3OTJhMjY0MzJiZjgJU2VnbWVudElkOiAyMDk5MzI4YzJjYTkzODFhCVNhbXBsZWQ6IHRydWUJCg==',\n",
       "   'x-amzn-trace-id': 'root=1-612e6704-61de34f53264792a26432bf8;sampled=1'},\n",
       "  'RetryAttempts': 0},\n",
       " 'StatusCode': 200,\n",
       " 'LogResult': 'START RequestId: ef1f4945-30f0-4f34-9a3c-67b46f6de43a Version: $LATEST\\n[INFO]\\t2021-08-31T17:29:40.136Z\\tef1f4945-30f0-4f34-9a3c-67b46f6de43a\\tScrape Medium articles\\n[INFO]\\t2021-08-31T17:29:40.136Z\\tef1f4945-30f0-4f34-9a3c-67b46f6de43a\\tSearch term: Pokemon\\n[INFO]\\t2021-08-31T17:29:40.137Z\\tef1f4945-30f0-4f34-9a3c-67b46f6de43a\\tNumber of articles: 123\\n[INFO]\\t2021-08-31T17:29:40.137Z\\tef1f4945-30f0-4f34-9a3c-67b46f6de43a\\tSearch unique identifier: my_uni3que_id\\nEND RequestId: ef1f4945-30f0-4f34-9a3c-67b46f6de43a\\nREPORT RequestId: ef1f4945-30f0-4f34-9a3c-67b46f6de43a\\tDuration: 1.59 ms\\tBilled Duration: 2 ms\\tMemory Size: 128 MB\\tMax Memory Used: 55 MB\\t\\nXRAY TraceId: 1-612e6704-61de34f53264792a26432bf8\\tSegmentId: 2099328c2ca9381a\\tSampled: true\\t\\n',\n",
       " 'ExecutedVersion': '$LATEST',\n",
       " 'Payload': b'{\"search_term\": \"Pokemon\", \"num_articles\": \"123\", \"search_id\": \"my_uni3que_id\"}'}"
      ]
     },
     "execution_count": 3,
     "metadata": {},
     "output_type": "execute_result"
    }
   ],
   "source": [
    "manager = AwsLambdaManager()\n",
    "manager.invoke(\n",
    "    dict(\n",
    "        search_term=\"Pokemon\",\n",
    "        num_articles=\"123\",\n",
    "        search_id=\"my_uni3que_id\"\n",
    "    )\n",
    ")"
   ]
  },
  {
   "cell_type": "code",
   "execution_count": null,
   "id": "11df73a4",
   "metadata": {},
   "outputs": [],
   "source": [
    "import ruamel\n",
    "from ruamel.yaml import YAML\n",
    "from pathlib import Path\n",
    "\n",
    "def read_yaml(file):\n",
    "    yaml = YAML()\n",
    "    yaml.preserve_quotes = True\n",
    "    return yaml.load(Path(file))\n",
    "\n",
    "def write_yaml(dictionary, file):\n",
    "    yaml = YAML()\n",
    "    yaml.preserve_quotes = True\n",
    "    yaml.dump(dictionary, Path(file))\n",
    "    \n",
    "template = read_yaml(\"aws_deployment/cloudformation_template.yml\")\n",
    "policy = read_yaml(\"aws_deployment/get_put_object_s3_policy.yml\")\n",
    "\n",
    "template[\"Resources\"][\"function\"][\"Properties\"][\"Policies\"]\n",
    "template[\"Resources\"][\"function\"][\"Properties\"][\"Policies\"].append(policy)\n",
    "\n",
    "write_yaml(template, \"aws_deployment/cloudformation_template.final.yml\")\n",
    "    "
   ]
  },
  {
   "cell_type": "code",
   "execution_count": null,
   "id": "0bec5f8d",
   "metadata": {},
   "outputs": [],
   "source": [
    "with open(\"aws_deployment/cloudformation_template.yml\", \"r\") as file:\n",
    "    template = file.read()"
   ]
  },
  {
   "cell_type": "code",
   "execution_count": null,
   "id": "c0210006",
   "metadata": {},
   "outputs": [],
   "source": [
    "from dotenv import dotenv_values\n",
    "\n",
    "\n",
    "bucket = dotenv_values(\"aws_deployment/aws_configuration\")[\"BUCKET\"]\n",
    "\n",
    "template_final = template.replace(\"{BUCKET}\", bucket)\n",
    "\n",
    "with open(\"aws_deployment/cloudformation_template.final.yml\", \"w\") as file:\n",
    "    file.write(template_final)"
   ]
  },
  {
   "cell_type": "code",
   "execution_count": null,
   "id": "525759e5",
   "metadata": {},
   "outputs": [],
   "source": [
    "dict(d[\"Resources\"])"
   ]
  },
  {
   "cell_type": "code",
   "execution_count": null,
   "id": "1f95a5b1",
   "metadata": {},
   "outputs": [],
   "source": [
    "Path(\"hola\") / \"adios.txt\""
   ]
  }
 ],
 "metadata": {
  "kernelspec": {
   "display_name": "Python 3 (ipykernel)",
   "language": "python",
   "name": "python3"
  },
  "language_info": {
   "codemirror_mode": {
    "name": "ipython",
    "version": 3
   },
   "file_extension": ".py",
   "mimetype": "text/x-python",
   "name": "python",
   "nbconvert_exporter": "python",
   "pygments_lexer": "ipython3",
   "version": "3.8.5"
  },
  "toc": {
   "base_numbering": 1,
   "nav_menu": {},
   "number_sections": true,
   "sideBar": true,
   "skip_h1_title": false,
   "title_cell": "Table of Contents",
   "title_sidebar": "Contents",
   "toc_cell": true,
   "toc_position": {},
   "toc_section_display": true,
   "toc_window_display": false
  }
 },
 "nbformat": 4,
 "nbformat_minor": 5
}
