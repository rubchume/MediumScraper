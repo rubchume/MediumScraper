{
 "cells": [
  {
   "cell_type": "markdown",
   "id": "6e07bc9a",
   "metadata": {
    "toc": true
   },
   "source": [
    "<h1>Table of Contents<span class=\"tocSkip\"></span></h1>\n",
    "<div class=\"toc\"><ul class=\"toc-item\"></ul></div>"
   ]
  },
  {
   "cell_type": "markdown",
   "id": "38711bac",
   "metadata": {},
   "source": [
    "Create S3 bucket"
   ]
  },
  {
   "cell_type": "code",
   "execution_count": 3,
   "id": "86e44645",
   "metadata": {},
   "outputs": [],
   "source": [
    "from aws_deployment.aws_deployer import AwsDeployer\n",
    "from aws_deployment.aws_lambda_manager import AwsLambdaManager"
   ]
  },
  {
   "cell_type": "code",
   "execution_count": 4,
   "id": "ce8d709e",
   "metadata": {},
   "outputs": [],
   "source": [
    "aws_deployer = AwsDeployer()"
   ]
  },
  {
   "cell_type": "code",
   "execution_count": 5,
   "id": "d2e36199",
   "metadata": {},
   "outputs": [
    {
     "name": "stdout",
     "output_type": "stream",
     "text": [
      "2021-09-03 21:17:43,295 - general_logger - INFO - Delete bucket\n",
      "2021-09-03 21:17:45,667 - general_logger - INFO - Delete stack\n",
      "2021-09-03 21:17:46,129 - general_logger - INFO - Delete logs\n",
      "2021-09-03 21:17:46,453 - general_logger - INFO - Logs were not found\n",
      "2021-09-03 21:17:46,459 - general_logger - INFO - Delete temporary files\n"
     ]
    }
   ],
   "source": [
    "aws_deployer.cleanup()"
   ]
  },
  {
   "cell_type": "code",
   "execution_count": 6,
   "id": "342c99c8",
   "metadata": {},
   "outputs": [
    {
     "name": "stdout",
     "output_type": "stream",
     "text": [
      "2021-09-03 21:17:48,285 - general_logger - INFO - Create bucket and build layer\n",
      "2021-09-03 21:17:48,682 - general_logger - INFO - Layer was already built but not uploaded\n",
      "2021-09-03 21:17:48,977 - general_logger - INFO - Bucket does not exist. Creating.\n",
      "2021-09-03 21:17:50,611 - general_logger - INFO - Uploading package to bucket\n",
      "2021-09-03 21:18:02,100 - general_logger - INFO - Package\n",
      "2021-09-03 21:18:04,212 - general_logger - INFO - Deploy stack\n"
     ]
    }
   ],
   "source": [
    "aws_deployer.full_deploy()"
   ]
  },
  {
   "cell_type": "code",
   "execution_count": 7,
   "id": "2a9987dd",
   "metadata": {},
   "outputs": [
    {
     "data": {
      "text/plain": [
       "{'ResponseMetadata': {'RequestId': '7d27a062-f314-486e-a6dd-056085f4af22',\n",
       "  'HTTPStatusCode': 200,\n",
       "  'HTTPHeaders': {'date': 'Fri, 03 Sep 2021 19:19:04 GMT',\n",
       "   'content-type': 'application/json',\n",
       "   'content-length': '79',\n",
       "   'connection': 'keep-alive',\n",
       "   'x-amzn-requestid': '7d27a062-f314-486e-a6dd-056085f4af22',\n",
       "   'x-amzn-remapped-content-length': '0',\n",
       "   'x-amz-executed-version': '$LATEST',\n",
       "   'x-amz-log-result': 'U1RBUlQgUmVxdWVzdElkOiA3ZDI3YTA2Mi1mMzE0LTQ4NmUtYTZkZC0wNTYwODVmNGFmMjIgVmVyc2lvbjogJExBVEVTVApbSU5GT10JMjAyMS0wOS0wM1QxOToxOTowNC4zNDFaCTdkMjdhMDYyLWYzMTQtNDg2ZS1hNmRkLTA1NjA4NWY0YWYyMglTY3JhcGUgTWVkaXVtIGFydGljbGVzCltJTkZPXQkyMDIxLTA5LTAzVDE5OjE5OjA0LjM0MVoJN2QyN2EwNjItZjMxNC00ODZlLWE2ZGQtMDU2MDg1ZjRhZjIyCVNlYXJjaCB0ZXJtOiBQb2tlbW9uCltJTkZPXQkyMDIxLTA5LTAzVDE5OjE5OjA0LjM0MloJN2QyN2EwNjItZjMxNC00ODZlLWE2ZGQtMDU2MDg1ZjRhZjIyCU51bWJlciBvZiBhcnRpY2xlczogMTIzCltJTkZPXQkyMDIxLTA5LTAzVDE5OjE5OjA0LjM0MloJN2QyN2EwNjItZjMxNC00ODZlLWE2ZGQtMDU2MDg1ZjRhZjIyCVNlYXJjaCB1bmlxdWUgaWRlbnRpZmllcjogbXlfdW5pM3F1ZV9pZApFTkQgUmVxdWVzdElkOiA3ZDI3YTA2Mi1mMzE0LTQ4NmUtYTZkZC0wNTYwODVmNGFmMjIKUkVQT1JUIFJlcXVlc3RJZDogN2QyN2EwNjItZjMxNC00ODZlLWE2ZGQtMDU2MDg1ZjRhZjIyCUR1cmF0aW9uOiAxLjg0IG1zCUJpbGxlZCBEdXJhdGlvbjogMiBtcwlNZW1vcnkgU2l6ZTogMTI4IE1CCU1heCBNZW1vcnkgVXNlZDogNTEgTUIJSW5pdCBEdXJhdGlvbjogMTE1LjY5IG1zCQpYUkFZIFRyYWNlSWQ6IDEtNjEzMjc1MjctMDlkYmUzYzUxYWY0Mjc0ZDJmOWVlZmFhCVNlZ21lbnRJZDogNGNlZDdjNjM0ZTVkY2ZkNAlTYW1wbGVkOiB0cnVlCQo=',\n",
       "   'x-amzn-trace-id': 'root=1-61327527-09dbe3c51af4274d2f9eefaa;sampled=1'},\n",
       "  'RetryAttempts': 0},\n",
       " 'StatusCode': 200,\n",
       " 'LogResult': 'START RequestId: 7d27a062-f314-486e-a6dd-056085f4af22 Version: $LATEST\\n[INFO]\\t2021-09-03T19:19:04.341Z\\t7d27a062-f314-486e-a6dd-056085f4af22\\tScrape Medium articles\\n[INFO]\\t2021-09-03T19:19:04.341Z\\t7d27a062-f314-486e-a6dd-056085f4af22\\tSearch term: Pokemon\\n[INFO]\\t2021-09-03T19:19:04.342Z\\t7d27a062-f314-486e-a6dd-056085f4af22\\tNumber of articles: 123\\n[INFO]\\t2021-09-03T19:19:04.342Z\\t7d27a062-f314-486e-a6dd-056085f4af22\\tSearch unique identifier: my_uni3que_id\\nEND RequestId: 7d27a062-f314-486e-a6dd-056085f4af22\\nREPORT RequestId: 7d27a062-f314-486e-a6dd-056085f4af22\\tDuration: 1.84 ms\\tBilled Duration: 2 ms\\tMemory Size: 128 MB\\tMax Memory Used: 51 MB\\tInit Duration: 115.69 ms\\t\\nXRAY TraceId: 1-61327527-09dbe3c51af4274d2f9eefaa\\tSegmentId: 4ced7c634e5dcfd4\\tSampled: true\\t\\n',\n",
       " 'ExecutedVersion': '$LATEST',\n",
       " 'Payload': b'{\"search_term\": \"Pokemon\", \"num_articles\": \"123\", \"search_id\": \"my_uni3que_id\"}'}"
      ]
     },
     "execution_count": 7,
     "metadata": {},
     "output_type": "execute_result"
    }
   ],
   "source": [
    "manager = AwsLambdaManager()\n",
    "manager.invoke(\n",
    "    dict(\n",
    "        search_term=\"Pokemon\",\n",
    "        num_articles=\"123\",\n",
    "        search_id=\"my_uni3que_id\"\n",
    "    )\n",
    ")"
   ]
  }
 ],
 "metadata": {
  "kernelspec": {
   "display_name": "Python 3 (ipykernel)",
   "language": "python",
   "name": "python3"
  },
  "language_info": {
   "codemirror_mode": {
    "name": "ipython",
    "version": 3
   },
   "file_extension": ".py",
   "mimetype": "text/x-python",
   "name": "python",
   "nbconvert_exporter": "python",
   "pygments_lexer": "ipython3",
   "version": "3.8.5"
  },
  "toc": {
   "base_numbering": 1,
   "nav_menu": {},
   "number_sections": true,
   "sideBar": true,
   "skip_h1_title": false,
   "title_cell": "Table of Contents",
   "title_sidebar": "Contents",
   "toc_cell": true,
   "toc_position": {},
   "toc_section_display": true,
   "toc_window_display": false
  }
 },
 "nbformat": 4,
 "nbformat_minor": 5
}
