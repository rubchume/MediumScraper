{
 "cells": [
  {
   "cell_type": "markdown",
   "id": "7ab2ec0b",
   "metadata": {
    "toc": true
   },
   "source": [
    "<h1>Table of Contents<span class=\"tocSkip\"></span></h1>\n",
    "<div class=\"toc\"><ul class=\"toc-item\"></ul></div>"
   ]
  },
  {
   "cell_type": "code",
   "execution_count": 1,
   "id": "4314ab63",
   "metadata": {},
   "outputs": [],
   "source": [
    "from src.article_scraper import ArticleScraper\n",
    "\n",
    "import log\n",
    "\n",
    "log.configure_logging()"
   ]
  },
  {
   "cell_type": "code",
   "execution_count": 2,
   "id": "23aa2477",
   "metadata": {},
   "outputs": [
    {
     "name": "stdout",
     "output_type": "stream",
     "text": [
      "2021-04-28 17:53:40,815 - general_logger.src.article_scraper - INFO - Start article compilation\n",
      "2021-04-28 17:53:41,037 - general_logger.src.article_scraper - INFO - Create searching results job\n",
      "2021-04-28 17:53:41,042 - general_logger.src.article_searcher.archive_searcher - INFO - Get urls from day: 2021-04-27\n",
      "2021-04-28 17:53:41,048 - general_logger.src.article_searcher.archive_searcher - INFO - Get urls from day: 2021-04-26\n",
      "2021-04-28 17:53:41,214 - general_logger.src.article_scraper - INFO - Number of articles saved: 0\n",
      "2021-04-28 17:53:46,056 - general_logger.src.map_reduce - INFO - Download article pages job (worker 2). Input queue is empty\n",
      "2021-04-28 17:53:46,063 - general_logger.src.map_reduce - INFO - Download article pages job (worker 3). Input queue is empty\n",
      "2021-04-28 17:53:46,063 - general_logger.src.map_reduce - INFO - Download article pages job (worker 1). Input queue is empty\n",
      "2021-04-28 17:53:46,064 - general_logger.src.map_reduce - INFO - Download article pages job (worker 0). Input queue is empty\n",
      "2021-04-28 17:53:46,065 - general_logger.src.map_reduce - INFO - Download article pages job (worker 4). Input queue is empty\n",
      "2021-04-28 17:53:46,067 - general_logger.src.map_reduce - INFO - Download article pages job (worker 5). Input queue is empty\n",
      "2021-04-28 17:53:46,074 - general_logger.src.map_reduce - INFO - Download article pages job (worker 9). Input queue is empty\n",
      "2021-04-28 17:53:46,074 - general_logger.src.map_reduce - INFO - Download article pages job (worker 8). Input queue is empty\n",
      "2021-04-28 17:53:46,075 - general_logger.src.map_reduce - INFO - Download article pages job (worker 6). Input queue is empty\n",
      "2021-04-28 17:53:46,076 - general_logger.src.map_reduce - INFO - Download article pages job (worker 7). Input queue is empty\n",
      "2021-04-28 17:53:46,225 - general_logger.src.article_scraper - INFO - Number of articles saved: 0\n",
      "2021-04-28 17:53:46,226 - general_logger.src.map_reduce - INFO - Save articles job (worker 0). Input queue is empty\n",
      "2021-04-28 17:53:51,234 - general_logger.src.article_scraper - INFO - Number of articles saved: 3\n",
      "2021-04-28 17:53:56,246 - general_logger.src.article_scraper - INFO - Number of articles saved: 6\n",
      "2021-04-28 17:53:56,285 - general_logger.src.article_searcher.archive_searcher - INFO - Get urls from day: 2021-04-25\n",
      "2021-04-28 17:53:56,293 - general_logger.src.article_searcher.archive_searcher - INFO - Get urls from day: 2021-04-24\n",
      "2021-04-28 17:54:01,248 - general_logger.src.article_scraper - INFO - Number of articles saved: 11\n",
      "2021-04-28 17:54:06,260 - general_logger.src.article_scraper - INFO - Number of articles saved: 29\n",
      "2021-04-28 17:54:06,682 - general_logger.src.article_searcher.archive_searcher - INFO - Get urls from day: 2021-04-23\n",
      "2021-04-28 17:54:06,713 - general_logger.src.article_searcher.archive_searcher - INFO - Get urls from day: 2021-04-22\n",
      "2021-04-28 17:54:11,269 - general_logger.src.article_scraper - INFO - Number of articles saved: 46\n",
      "2021-04-28 17:54:16,277 - general_logger.src.article_scraper - INFO - Number of articles saved: 55\n",
      "2021-04-28 17:54:17,461 - general_logger.src.map_reduce - INFO - Download article pages job (worker 9). Error applying function: Exceeded 30 redirects.\n",
      "2021-04-28 17:54:21,322 - general_logger.src.article_scraper - INFO - Number of articles saved: 69\n",
      "2021-04-28 17:54:21,388 - general_logger.src.article_searcher.archive_searcher - INFO - Get urls from day: 2021-04-21\n",
      "2021-04-28 17:54:21,448 - general_logger.src.article_searcher.archive_searcher - INFO - Get urls from day: 2021-04-20\n",
      "2021-04-28 17:54:26,377 - general_logger.src.article_scraper - INFO - Number of articles saved: 83\n",
      "2021-04-28 17:54:31,748 - general_logger.src.article_scraper - INFO - Number of articles saved: 94\n",
      "2021-04-28 17:54:36,753 - general_logger.src.article_scraper - INFO - Number of articles saved: 95\n",
      "2021-04-28 17:54:41,761 - general_logger.src.article_scraper - INFO - Number of articles saved: 99\n",
      "2021-04-28 17:54:46,773 - general_logger.src.article_scraper - INFO - Objective number of articles reached. Stop retrieving URLs\n",
      "2021-04-28 17:54:46,776 - general_logger.src.article_scraper - INFO - Downloading remaining URLs\n",
      "2021-04-28 17:55:00,033 - general_logger.src.map_reduce - INFO - Save articles job (worker 0). Input queue is empty\n",
      "2021-04-28 17:55:11,150 - general_logger.src.map_reduce - INFO - Save articles job (worker 0). Input queue is empty\n",
      "2021-04-28 17:55:45,651 - general_logger.src.map_reduce - INFO - Save articles job (worker 0). Input queue is empty\n",
      "2021-04-28 17:55:45,681 - general_logger.src.article_scraper - INFO - Compilation finished\n",
      "2021-04-28 17:55:45,685 - general_logger.src.article_scraper - INFO - 125 articles saved in folder articles_tests\n"
     ]
    }
   ],
   "source": [
    "ArticleScraper(\n",
    "    minimum_duration_minutes=5\n",
    ").compile_articles(\n",
    "    search_term=\"SEO\",\n",
    "    num_articles=100,\n",
    "    directory=\"articles_tests\"\n",
    ")"
   ]
  }
 ],
 "metadata": {
  "kernelspec": {
   "display_name": "Python 3",
   "language": "python",
   "name": "python3"
  },
  "language_info": {
   "codemirror_mode": {
    "name": "ipython",
    "version": 3
   },
   "file_extension": ".py",
   "mimetype": "text/x-python",
   "name": "python",
   "nbconvert_exporter": "python",
   "pygments_lexer": "ipython3",
   "version": "3.8.5"
  },
  "toc": {
   "base_numbering": 1,
   "nav_menu": {},
   "number_sections": true,
   "sideBar": true,
   "skip_h1_title": false,
   "title_cell": "Table of Contents",
   "title_sidebar": "Contents",
   "toc_cell": true,
   "toc_position": {},
   "toc_section_display": true,
   "toc_window_display": false
  }
 },
 "nbformat": 4,
 "nbformat_minor": 5
}
