{
 "cells": [
  {
   "cell_type": "markdown",
   "id": "7ab2ec0b",
   "metadata": {
    "toc": true
   },
   "source": [
    "<h1>Table of Contents<span class=\"tocSkip\"></span></h1>\n",
    "<div class=\"toc\"><ul class=\"toc-item\"></ul></div>"
   ]
  },
  {
   "cell_type": "code",
   "execution_count": 1,
   "id": "4314ab63",
   "metadata": {},
   "outputs": [],
   "source": [
    "import requests\n",
    "from bs4 import BeautifulSoup\n",
    "from urllib.parse import urlparse\n",
    "import json\n",
    "import re"
   ]
  },
  {
   "cell_type": "code",
   "execution_count": 10,
   "id": "285d13b4",
   "metadata": {},
   "outputs": [
    {
     "name": "stdout",
     "output_type": "stream",
     "text": [
      "0. URL: https://medium.com/airbnb-engineering/experimentation-measurement-for-search-engine-optimization-b64136629760\n",
      " Error: ErrorCodes.DECODING_ERROR\n",
      "1. URL: https://medium.com/blogging-guide/medium-article-search-engine-optimization-medium-seo-9249f18e8e76\n",
      " Everything correct. Save article\n",
      "2. URL: https://medium.com/cool-code-pal/introducing-web-components-and-what-it-means-for-search-engine-optimization-and-privacy-b21bfc1f63c7\n",
      " Everything correct. Save article\n",
      "3. URL: https://medium.com/the-logician/seo-guide-d534b69ce1c7\n",
      " Error: ErrorCodes.DECODING_ERROR\n",
      "4. URL: https://medium.com/@myxys/seo-101-complete-search-engine-optimization-guide-checklist-97153741cfe6\n",
      " Everything correct. Save article\n",
      "5. URL: https://medium.com/write-to-blog/how-to-learn-search-engine-optimization-for-beginning-bloggers-765fe895d2d3\n",
      " Everything correct. Save article\n",
      "6. URL: https://medium.com/swlh/why-i-suck-at-search-engine-optimization-7777e6d0441f\n",
      " Everything correct. Save article\n",
      "7. URL: https://medium.com/age-of-awareness/search-engine-optimization-seo-for-new-writers-what-it-is-and-why-you-should-care-d36b8a1d000d\n",
      " Everything correct. Save article\n",
      "8. URL: https://medium.datadriveninvestor.com/why-seo-is-more-than-just-search-engine-optimization-285f75337702\n",
      " Everything correct. Save article\n",
      "9. URL: https://medium.com/@tyohan/progressive-web-app-search-engine-optimization-in-shuvayatra-app-a7c111671338\n",
      " Error: ErrorCodes.DECODING_ERROR\n"
     ]
    }
   ],
   "source": [
    "from src.medium_scraper import search_articles\n",
    "from src.medium_scraper import scrape_medium_article\n",
    "from src.article_manager import ArticleManager\n",
    "from src.medium_scraper import ErrorCodes\n",
    "\n",
    "search_term = \"Search Engine Optimization\"\n",
    "article_manager = ArticleManager()\n",
    "\n",
    "urls = search_articles(search_term)\n",
    "for i, url in enumerate(urls):\n",
    "    print(f\"{i}. URL: {url}\")\n",
    "    article = scrape_medium_article(url)\n",
    "    if article.error_code == ErrorCodes.OK:\n",
    "        print(\" Everything correct. Save article\")\n",
    "        article_manager.save_article(article)\n",
    "    else:\n",
    "        print(f\" Error: {article.error_code}\")\n"
   ]
  },
  {
   "cell_type": "code",
   "execution_count": 85,
   "id": "5dc34077",
   "metadata": {},
   "outputs": [],
   "source": [
    "HEADERS = {\n",
    "    'user-agent': 'Mozilla/5.0 (Macintosh; Intel Mac OS X 10_11_6) AppleWebKit/537.36 (KHTML, like Gecko) Chrome/53.0.2785.143 Safari/537.36'\n",
    "}"
   ]
  },
  {
   "cell_type": "code",
   "execution_count": 12,
   "id": "a8c5e62f",
   "metadata": {},
   "outputs": [],
   "source": [
    "session = requests.session()"
   ]
  },
  {
   "cell_type": "code",
   "execution_count": 36,
   "id": "1b5de120",
   "metadata": {},
   "outputs": [],
   "source": [
    "response1 = session.get(\"https://medium.com/search?q=seo\")\n",
    "response2 = session.get(\n",
    "    \"https://medium.com/search/posts?q=seo&count=10&ignore=1b903b3ab6bb&ignore=92fad4f5a39&ignore=73ce840d8bb6&ignore=74ce5015c0c9&ignore=a6354595e400&ignore=b0c8230a8200&ignore=914e0fc3ab1&ignore=a3b3115a294b&ignore=ae4e5e7839e&ignore=3c46274501b2\",\n",
    ")\n",
    "response3 = session.get(\n",
    "    \"https://medium.com/search/posts?q=seo&count=20&ignore=1b903b3ab6bb&ignore=92fad4f5a39&ignore=73ce840d8bb6&ignore=74ce5015c0c9&ignore=a6354595e400&ignore=b0c8230a8200&ignore=914e0fc3ab1&ignore=a3b3115a294b&ignore=ae4e5e7839e&ignore=3c46274501b2\",\n",
    ")\n",
    "response4 = session.get(\n",
    "    \"https://medium.com/search/posts?q=seo&count=10&ignore=1b903b3ab6bb&ignore=92fad4f5a39&ignore=73ce840d8bb6&ignore=74ce5015c0c9&ignore=a6354595e400&ignore=b0c8230a8200&ignore=914e0fc3ab1&ignore=a3b3115a294b&ignore=ae4e5e7839e&ignore=3c46274501b2\",\n",
    ")"
   ]
  },
  {
   "cell_type": "code",
   "execution_count": 146,
   "id": "ca150232",
   "metadata": {},
   "outputs": [
    {
     "name": "stdout",
     "output_type": "stream",
     "text": [
      "1\n",
      "2\n",
      "3\n",
      "4\n",
      "5\n"
     ]
    }
   ],
   "source": [
    "from http import HTTPStatus\n",
    "\n",
    "\n",
    "def get_article_id(url):\n",
    "    return url.split(\"-\")[-1]\n",
    "\n",
    "\n",
    "headers = {\n",
    "    'accept': 'text/html,application/xhtml+xml,application/xml,application/json',\n",
    "    'user-agent': 'Mozilla/5.0 (Windows NT 10.0; Win64; x64) AppleWebKit/537.36 (KHTML, like Gecko) Chrome/90.0.4430.85 Safari/537.36',\n",
    "    \"sec-fetch-site\": \"same-origin\",\n",
    "    \"sec-fetch-mode\": \"cors\",\n",
    "    \"x-xsrf-token\": \"1\",\n",
    "}\n",
    "\n",
    "session = requests.session()\n",
    "\n",
    "\n",
    "urls = []\n",
    "article_ids = []\n",
    "for i in range(1, 6):\n",
    "    print(f\"{i}\")\n",
    "    if i == 1:\n",
    "        response = session.get(\"https://medium.com/search?q=seo\", headers=headers)\n",
    "    elif i == 2:\n",
    "        ignore_query_parameters = \"&\".join([f\"ignore={article_id}\" for article_id in article_ids])\n",
    "        puta = f\"https://medium.com/search/posts?q=seo&count=10&{ignore_query_parameters}\"\n",
    "        response = session.get(\n",
    "            f\"https://medium.com/search/posts?q=seo&count=10&{ignore_query_parameters}\",\n",
    "            headers=headers\n",
    "        )\n",
    "    elif i == 3:\n",
    "        response = session.post(\n",
    "            \"https://medium.com/search/posts?q=seo\",\n",
    "            headers=headers,\n",
    "            data={\n",
    "                \"ignoredIds\": article_ids,\n",
    "                \"page\": 3,\n",
    "                \"pageSize\": 10\n",
    "            }\n",
    "        )\n",
    "    else:\n",
    "        response = session.post(\n",
    "            \"https://medium.com/search/posts?q=seo\",\n",
    "            headers=headers,\n",
    "            data={\n",
    "                \"ignoredIds\": article_ids_batch,\n",
    "                \"page\": i,\n",
    "                \"pageSize\": 10\n",
    "            }\n",
    "        )\n",
    "    \n",
    "    if response.status_code != HTTPStatus.OK:\n",
    "        raise RuntimeException(\"There was some error when searching articles\")\n",
    "    \n",
    "    headers['cookie'] = '; '.join([x.name + '=' + x.value for x in response.cookies])\n",
    "    \n",
    "    urls_batch = get_article_urls(response.text)\n",
    "    article_ids_batch = [get_article_id(url) for url in urls_batch]\n",
    "    \n",
    "    urls += urls_batch\n",
    "    article_ids += article_ids_batch"
   ]
  },
  {
   "cell_type": "code",
   "execution_count": 147,
   "id": "dc435752",
   "metadata": {},
   "outputs": [
    {
     "data": {
      "text/plain": [
       "['https://medium.com/startup-grind/seo-is-not-hard-a-step-by-step-seo-tutorial-for-beginners-that-will-get-you-ranked-every-single-1b903b3ab6bb',\n",
       " 'https://medium.com/free-code-camp/seo-secrets-reverse-engineering-googles-algorithm-92fad4f5a39',\n",
       " 'https://medium.com/ol-portal-steps-forward-to-the-future-communicatio/blockchain-conference-of-olportal-and-hedera-hashgraph-projects-the-presentation-of-our-seo-73ce840d8bb6',\n",
       " 'https://medium.com/free-code-camp/seo-vs-react-is-it-neccessary-to-render-react-pages-in-the-backend-74ce5015c0c9',\n",
       " 'https://medium.com/@prestonwallace/3-ways-improve-react-seo-without-isomorphic-app-a6354595e400',\n",
       " 'https://medium.com/creators-hub/seo-tips-to-make-your-stories-discoverable-and-grow-your-readership-b0c8230a8200',\n",
       " 'https://medium.com/free-code-camp/using-fetch-as-google-for-seo-experiments-with-react-driven-websites-914e0fc3ab1',\n",
       " 'https://entrepreneurshandbook.co/the-best-shortest-marketing-seo-checklist-ever-from-reddit-a3b3115a294b',\n",
       " 'https://medium.com/@thejungwon/best-html-css-javascript-practice-chrome-extension-ae4e5e7839e',\n",
       " 'https://chatbotsmagazine.com/19-best-practices-for-building-chatbots-3c46274501b2',\n",
       " 'https://medium.com/as-a-product-designer/seo-sem-and-web-design-for-long-pages-1417625ce686',\n",
       " 'https://medium.com/marketing-and-entrepreneurship/6-seo-experiments-that-will-blow-your-mind-5d1bf3af73db',\n",
       " 'https://medium.com/@joseperezaguera/por-qu%C3%A9-no-hay-seo-en-mercadona-online-128f5f3a863c',\n",
       " 'https://medium.com/%E4%B8%80%E4%BA%BA%E9%9B%9C%E8%AA%8C%E7%A4%BE/%E9%9B%B6%E5%BB%A3%E5%91%8A%E9%A0%90%E7%AE%97-%E6%88%91%E5%A6%82%E4%BD%95%E7%94%A8-seo-%E5%B0%8F%E6%8A%80%E5%B7%A7%E5%AF%AB%E5%87%BA-google-%E8%87%AA%E7%84%B6%E6%90%9C%E5%B0%8B%E7%AC%AC-1-%E4%BD%8D%E7%9A%84%E6%96%87%E7%AB%A0-82c82d8e10db',\n",
       " 'https://medium.com/vue-mastery/best-practices-for-nuxt-js-seo-32399c49b2e5',\n",
       " 'https://towardsdatascience.com/trend-seasonality-moving-average-auto-regressive-model-my-journey-to-time-series-data-with-edc4c0c8284b',\n",
       " 'https://medium.com/y-pointer/2000-followers-fddd5994e3e5',\n",
       " 'https://medium.com/blogging-guide/medium-article-search-engine-optimization-medium-seo-9249f18e8e76',\n",
       " 'https://bettermarketing.pub/very-basic-seo-for-tech-neophytes-5ed31d5edfe1',\n",
       " 'https://medium.com/@benjburkholder/javascript-seo-server-side-rendering-vs-client-side-rendering-bc06b8ca2383',\n",
       " 'https://bettermarketing.pub/the-complete-guide-to-seo-in-2020-6328d19a1710',\n",
       " 'https://medium.com/@barthbamasta/devenir-un-expert-en-seo-en-30min-7cd6d1e23de',\n",
       " 'https://medium.com/@randfish/moz-returns-to-seo-5a330c0e6eb2',\n",
       " 'https://medium.com/the-mission/overcome-the-google-gods-the-best-seo-learning-tools-d1de6b170e2',\n",
       " 'https://medium.com/@lucamug/spa-and-seo-is-googlebot-able-to-render-a-single-page-application-1f74e706ab11',\n",
       " 'https://medium.com/@cathyseo/the-product-designer-role-1299f675c638',\n",
       " 'https://towardsdatascience.com/medical-image-segmentation-part-1-unet-convolutional-networks-with-interactive-code-70f0f17f46c6',\n",
       " 'https://medium.com/@eytii/instagram-seo-%E7%B0%A1%E6%98%93%E4%B8%83%E6%92%87%E6%AD%A5-58ae831021b4',\n",
       " 'https://medium.com/madhash/20-must-know-facts-about-seo-23d523b031a1',\n",
       " 'https://medium.com/js-dojo/is-my-single-page-app-seo-friendly-be2c827f1c38',\n",
       " 'https://medium.com/swlh/the-secret-to-my-long-tail-seo-success-13f18285f633',\n",
       " 'https://medium.com/muddyum/in-search-of-the-meaning-of-seo-and-why-optimizing-matters-a-how-to-guide-7633dd568556',\n",
       " 'https://bettermarketing.pub/how-to-improve-your-seo-for-free-write-damn-good-content-dc06cc119772',\n",
       " 'https://towardsdatascience.com/understanding-2d-dilated-convolution-operation-with-examples-in-numpy-and-tensorflow-with-d376b3972b25',\n",
       " 'https://towardsdatascience.com/paper-summary-matrix-factorization-techniques-for-recommender-systems-82d1a7ace74',\n",
       " 'https://medium.com/pinterest-engineering/demystifying-seo-with-experiments-a183b325cf4c',\n",
       " 'https://medium.com/erianmarketing/%E6%96%87%E6%A1%88%E8%A6%81%E6%80%8E%E9%BA%BC%E6%B7%B1%E5%85%A5%E4%BA%BA%E5%BF%83-5%E6%AD%A5%E9%A9%9F%E8%A1%8C%E9%8A%B7%E6%96%87%E6%A1%88%E6%92%B0%E5%AF%AB%E6%8A%80%E5%B7%A7-%E4%B8%8D%E9%9D%A0%E9%9D%88%E6%84%9F%E5%B0%B1%E8%AE%93%E9%A1%A7%E5%AE%A2%E5%90%B8%E7%9D%9B%E8%B2%B7%E5%96%AE-%E6%8F%90%E5%8D%87seo%E6%8E%92%E5%90%8D-b820dd6c4700',\n",
       " 'https://medium.com/design-doordash/becoming-a-leader-as-a-first-generation-immigrant-4b9a883489dc',\n",
       " 'https://medium.com/codingthesmartway-com-blog/angular-seo-making-angular-6-single-page-web-apps-search-engine-friendly-c8ec4ff2f549',\n",
       " 'https://towardsdatascience.com/back-to-basics-deriving-back-propagation-on-simple-rnn-lstm-feat-aidan-gomez-c7f286ba973d',\n",
       " 'https://medium.com/binarcode/make-your-vue-js-application-seo-friendly-dea3d004a58c',\n",
       " 'https://codeburst.io/how-i-created-seo-friendly-portfolio-cv-website-and-hosted-it-on-github-d5c4da43cf2f',\n",
       " 'https://medium.com/@anth-oleinik/accessibility-is-bad-in-flutter-web-seo-is-bad-and-you-cant-even-highlight-text-e9121febdad7',\n",
       " 'https://medium.com/@seorankmybusiness/white-hat-seo-vs-black-hat-seo-whats-the-difference-62f31bb4af',\n",
       " 'https://medium.com/groupon-design-union/10-interview-tips-i-share-with-my-designer-candidates-bf982ed4e36a',\n",
       " 'https://towardsdatascience.com/my-take-on-microsoft-ai-interview-questions-with-interactive-code-part-1-c271388af633',\n",
       " 'https://bettermarketing.pub/being-a-remarkable-writer-means-ignoring-seo-40620ffa3981',\n",
       " 'https://medium.com/swlh/91-experts-share-the-most-effective-seo-tips-to-drive-traffic-to-your-website-expert-roundup-2c378143b16f',\n",
       " 'https://writingcooperative.com/seo-basics-for-thrifty-bloggers-869a53425fb9',\n",
       " 'https://bettermarketing.pub/how-i-ranked-on-page-1-without-any-seo-tools-60fa1d885738']"
      ]
     },
     "execution_count": 147,
     "metadata": {},
     "output_type": "execute_result"
    }
   ],
   "source": [
    "urls"
   ]
  },
  {
   "cell_type": "code",
   "execution_count": 144,
   "id": "8adc264c",
   "metadata": {},
   "outputs": [
    {
     "data": {
      "text/plain": [
       "\"https://medium.com/search/posts?q=seo&count=10&ignore=['1b903b3ab6bb', '92fad4f5a39', '73ce840d8bb6', '74ce5015c0c9', 'a6354595e400', 'b0c8230a8200', '914e0fc3ab1', 'a3b3115a294b', 'ae4e5e7839e', '3c46274501b2']\""
      ]
     },
     "execution_count": 144,
     "metadata": {},
     "output_type": "execute_result"
    }
   ],
   "source": [
    "puta"
   ]
  },
  {
   "cell_type": "code",
   "execution_count": 141,
   "id": "fb32105f",
   "metadata": {},
   "outputs": [
    {
     "name": "stdout",
     "output_type": "stream",
     "text": [
      "['1417625ce686', '5d1bf3af73db', '128f5f3a863c', '82c82d8e10db', '32399c49b2e5', 'edc4c0c8284b', 'fddd5994e3e5', '9249f18e8e76', '5ed31d5edfe1', 'bc06b8ca2383']\n"
     ]
    }
   ],
   "source": [
    "response = session.get(\n",
    "    \"https://medium.com/search/posts?q=seo&count=10&ignore=1b903b3ab6bb&ignore=92fad4f5a39&ignore=73ce840d8bb6&ignore=74ce5015c0c9&ignore=a6354595e400&ignore=b0c8230a8200&ignore=914e0fc3ab1&ignore=a3b3115a294b&ignore=ae4e5e7839e&ignore=3c46274501b2\"\n",
    ")\n",
    "\n",
    "urls_batch = get_article_urls(response.text)\n",
    "article_ids = [get_article_id(url) for url in urls_batch]\n",
    "print(article_ids)"
   ]
  },
  {
   "cell_type": "code",
   "execution_count": 123,
   "id": "5595353d",
   "metadata": {},
   "outputs": [],
   "source": [
    "headers['cookie'] = '; '.join([x.name + '=' + x.value for x in response.cookies])"
   ]
  },
  {
   "cell_type": "code",
   "execution_count": 124,
   "id": "f9f27a89",
   "metadata": {},
   "outputs": [
    {
     "name": "stdout",
     "output_type": "stream",
     "text": [
      "['1417625ce686', '5d1bf3af73db', '128f5f3a863c', '82c82d8e10db', '32399c49b2e5', 'edc4c0c8284b', 'fddd5994e3e5', '9249f18e8e76', '5ed31d5edfe1', 'bc06b8ca2383']\n"
     ]
    }
   ],
   "source": [
    "ignore_query_parameters = \"&\".join([f\"ignore={article_id}\" for article_id in article_ids])\n",
    "response = session.get(\n",
    "    f\"https://medium.com/search/posts?q=seo&count=10&{ignore_query_parameters}\",\n",
    ")\n",
    "urls_batch = get_article_urls(response.text)\n",
    "article_ids = [get_article_id(url) for url in urls_batch]\n",
    "print(article_ids)"
   ]
  },
  {
   "cell_type": "code",
   "execution_count": 125,
   "id": "027a83a6",
   "metadata": {},
   "outputs": [],
   "source": [
    "headers['cookie'] = '; '.join([x.name + '=' + x.value for x in response.cookies])"
   ]
  },
  {
   "cell_type": "code",
   "execution_count": 126,
   "id": "64247f9f",
   "metadata": {},
   "outputs": [],
   "source": [
    "headers[\"x-xsrf-token\"] = \"1\""
   ]
  },
  {
   "cell_type": "code",
   "execution_count": 127,
   "id": "64eb01c0",
   "metadata": {},
   "outputs": [
    {
     "data": {
      "text/plain": [
       "<RequestsCookieJar[Cookie(version=0, name='__cfruid', value='0b538d30bfaf0716f30a6321822c9f8b37a3fc80-1619110415', port=None, port_specified=False, domain='.medium.com', domain_specified=True, domain_initial_dot=True, path='/', path_specified=True, secure=True, expires=None, discard=True, comment=None, comment_url=None, rest={'HttpOnly': None, 'SameSite': 'None'}, rfc2109=False)]>"
      ]
     },
     "execution_count": 127,
     "metadata": {},
     "output_type": "execute_result"
    }
   ],
   "source": [
    "response.cookies"
   ]
  },
  {
   "cell_type": "code",
   "execution_count": 128,
   "id": "e874582c",
   "metadata": {},
   "outputs": [],
   "source": [
    "response = session.post(\n",
    "    \"https://medium.com/search/posts?q=seo\",\n",
    "    headers=headers,\n",
    "    data={\"ignoredIds\":[\"1b903b3ab6bb\",\"92fad4f5a39\",\"73ce840d8bb6\",\"74ce5015c0c9\",\"a6354595e400\",\"b0c8230a8200\",\"914e0fc3ab1\",\"a3b3115a294b\",\"ae4e5e7839e\",\"3c46274501b2\",\"1417625ce686\",\"5d1bf3af73db\",\"128f5f3a863c\",\"82c82d8e10db\",\"32399c49b2e5\",\"edc4c0c8284b\",\"fddd5994e3e5\",\"9249f18e8e76\",\"5ed31d5edfe1\",\"bc06b8ca2383\"],\"page\":3,\"pageSize\":10}\n",
    ")"
   ]
  },
  {
   "cell_type": "code",
   "execution_count": 129,
   "id": "17afaaf5",
   "metadata": {},
   "outputs": [
    {
     "name": "stdout",
     "output_type": "stream",
     "text": [
      "['6328d19a1710', '7cd6d1e23de', '5a330c0e6eb2', 'd1de6b170e2', '1f74e706ab11', '1299f675c638', '70f0f17f46c6', '58ae831021b4', '23d523b031a1', 'be2c827f1c38']\n"
     ]
    }
   ],
   "source": [
    "urls_batch = get_article_urls(response.text)\n",
    "article_ids = [get_article_id(url) for url in urls_batch]\n",
    "print(article_ids)"
   ]
  },
  {
   "cell_type": "code",
   "execution_count": 130,
   "id": "ee3abcc8",
   "metadata": {},
   "outputs": [],
   "source": [
    "response = session.post(\n",
    "    \"https://medium.com/search/posts?q=seo\",\n",
    "    headers=headers,\n",
    "    data={\"ignoredIds\":['6328d19a1710', '7cd6d1e23de', '5a330c0e6eb2', 'd1de6b170e2', '1f74e706ab11', '1299f675c638', '70f0f17f46c6', '58ae831021b4', '23d523b031a1', 'be2c827f1c38'],\"page\":4,\"pageSize\":10}\n",
    ")"
   ]
  },
  {
   "cell_type": "code",
   "execution_count": 131,
   "id": "ff009864",
   "metadata": {},
   "outputs": [
    {
     "name": "stdout",
     "output_type": "stream",
     "text": [
      "['13f18285f633', '7633dd568556', 'dc06cc119772', 'd376b3972b25', '82d1a7ace74', 'a183b325cf4c', 'b820dd6c4700', '4b9a883489dc', 'c8ec4ff2f549', 'c7f286ba973d']\n"
     ]
    }
   ],
   "source": [
    "urls_batch = get_article_urls(response.text)\n",
    "article_ids = [get_article_id(url) for url in urls_batch]\n",
    "print(article_ids)"
   ]
  }
 ],
 "metadata": {
  "kernelspec": {
   "display_name": "Python 3",
   "language": "python",
   "name": "python3"
  },
  "language_info": {
   "codemirror_mode": {
    "name": "ipython",
    "version": 3
   },
   "file_extension": ".py",
   "mimetype": "text/x-python",
   "name": "python",
   "nbconvert_exporter": "python",
   "pygments_lexer": "ipython3",
   "version": "3.8.5"
  },
  "toc": {
   "base_numbering": 1,
   "nav_menu": {},
   "number_sections": true,
   "sideBar": true,
   "skip_h1_title": false,
   "title_cell": "Table of Contents",
   "title_sidebar": "Contents",
   "toc_cell": true,
   "toc_position": {},
   "toc_section_display": true,
   "toc_window_display": false
  }
 },
 "nbformat": 4,
 "nbformat_minor": 5
}
