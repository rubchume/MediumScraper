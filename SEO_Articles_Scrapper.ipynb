{
 "cells": [
  {
   "cell_type": "markdown",
   "id": "7ab2ec0b",
   "metadata": {
    "toc": true
   },
   "source": [
    "<h1>Table of Contents<span class=\"tocSkip\"></span></h1>\n",
    "<div class=\"toc\"><ul class=\"toc-item\"></ul></div>"
   ]
  },
  {
   "cell_type": "code",
   "execution_count": 1,
   "id": "4314ab63",
   "metadata": {},
   "outputs": [],
   "source": [
    "import requests\n",
    "from bs4 import BeautifulSoup\n",
    "from urllib.parse import urlparse\n",
    "import json\n",
    "import re"
   ]
  },
  {
   "cell_type": "code",
   "execution_count": 2,
   "id": "6c01052f",
   "metadata": {},
   "outputs": [
    {
     "name": "stdout",
     "output_type": "stream",
     "text": [
      "0 of 100. URL: https://medium.com/startup-grind/seo-is-not-hard-a-step-by-step-seo-tutorial-for-beginners-that-will-get-you-ranked-every-single-1b903b3ab6bb\n"
     ]
    },
    {
     "name": "stderr",
     "output_type": "stream",
     "text": [
      "C:\\Users\\chana\\Google Drive\\Laboral\\Freelance\\Job2\\SEOArticlesScrapper\\src\\medium_scraper.py:94: GuessedAtParserWarning: No parser was explicitly specified, so I'm using the best available HTML parser for this system (\"html5lib\"). This usually isn't a problem, but if you run this code on another system, or in a different virtual environment, it may use a different parser and behave differently.\n",
      "\n",
      "The code that caused this warning is on line 94 of the file C:\\Users\\chana\\Google Drive\\Laboral\\Freelance\\Job2\\SEOArticlesScrapper\\src\\medium_scraper.py. To get rid of this warning, pass the additional argument 'features=\"html5lib\"' to the BeautifulSoup constructor.\n",
      "\n",
      "  page = BeautifulSoup(page_html)\n"
     ]
    },
    {
     "name": "stdout",
     "output_type": "stream",
     "text": [
      "  Everything correct. Save article\n",
      "1 of 100. URL: https://medium.com/free-code-camp/seo-secrets-reverse-engineering-googles-algorithm-92fad4f5a39\n",
      "  Everything correct. Save article\n",
      "2 of 100. URL: https://medium.com/ol-portal-steps-forward-to-the-future-communicatio/blockchain-conference-of-olportal-and-hedera-hashgraph-projects-the-presentation-of-our-seo-73ce840d8bb6\n",
      "  Everything correct. Save article\n",
      "3 of 100. URL: https://medium.com/free-code-camp/seo-vs-react-is-it-neccessary-to-render-react-pages-in-the-backend-74ce5015c0c9\n",
      "  Everything correct. Save article\n",
      "4 of 100. URL: https://medium.com/@prestonwallace/3-ways-improve-react-seo-without-isomorphic-app-a6354595e400\n",
      "  Everything correct. Save article\n",
      "5 of 100. URL: https://medium.com/creators-hub/seo-tips-to-make-your-stories-discoverable-and-grow-your-readership-b0c8230a8200\n",
      "  Everything correct. Save article\n",
      "6 of 100. URL: https://medium.com/free-code-camp/using-fetch-as-google-for-seo-experiments-with-react-driven-websites-914e0fc3ab1\n",
      "  Everything correct. Save article\n",
      "7 of 100. URL: https://entrepreneurshandbook.co/the-best-shortest-marketing-seo-checklist-ever-from-reddit-a3b3115a294b\n",
      "  Everything correct. Save article\n",
      "8 of 100. URL: https://medium.com/@thejungwon/best-html-css-javascript-practice-chrome-extension-ae4e5e7839e\n",
      "  Everything correct. Save article\n",
      "9 of 100. URL: https://chatbotsmagazine.com/19-best-practices-for-building-chatbots-3c46274501b2\n",
      "  Everything correct. Save article\n",
      "10 of 100. URL: https://medium.com/as-a-product-designer/seo-sem-and-web-design-for-long-pages-1417625ce686\n",
      "  Everything correct. Save article\n",
      "11 of 100. URL: https://medium.com/marketing-and-entrepreneurship/6-seo-experiments-that-will-blow-your-mind-5d1bf3af73db\n",
      "  Everything correct. Save article\n",
      "12 of 100. URL: https://medium.com/@joseperezaguera/por-qu%C3%A9-no-hay-seo-en-mercadona-online-128f5f3a863c\n",
      "  Everything correct. Save article\n",
      "13 of 100. URL: https://medium.com/%E4%B8%80%E4%BA%BA%E9%9B%9C%E8%AA%8C%E7%A4%BE/%E9%9B%B6%E5%BB%A3%E5%91%8A%E9%A0%90%E7%AE%97-%E6%88%91%E5%A6%82%E4%BD%95%E7%94%A8-seo-%E5%B0%8F%E6%8A%80%E5%B7%A7%E5%AF%AB%E5%87%BA-google-%E8%87%AA%E7%84%B6%E6%90%9C%E5%B0%8B%E7%AC%AC-1-%E4%BD%8D%E7%9A%84%E6%96%87%E7%AB%A0-82c82d8e10db\n",
      "  Everything correct. Save article\n",
      "14 of 100. URL: https://medium.com/vue-mastery/best-practices-for-nuxt-js-seo-32399c49b2e5\n",
      "  Everything correct. Save article\n",
      "15 of 100. URL: https://towardsdatascience.com/trend-seasonality-moving-average-auto-regressive-model-my-journey-to-time-series-data-with-edc4c0c8284b\n",
      "  Everything correct. Save article\n",
      "16 of 100. URL: https://medium.com/y-pointer/2000-followers-fddd5994e3e5\n",
      "  Everything correct. Save article\n",
      "17 of 100. URL: https://medium.com/blogging-guide/medium-article-search-engine-optimization-medium-seo-9249f18e8e76\n",
      "  Everything correct. Save article\n",
      "18 of 100. URL: https://bettermarketing.pub/very-basic-seo-for-tech-neophytes-5ed31d5edfe1\n",
      "  Everything correct. Save article\n",
      "19 of 100. URL: https://medium.com/@benjburkholder/javascript-seo-server-side-rendering-vs-client-side-rendering-bc06b8ca2383\n",
      "  Everything correct. Save article\n",
      "20 of 100. URL: https://bettermarketing.pub/the-complete-guide-to-seo-in-2020-6328d19a1710\n",
      "  Everything correct. Save article\n",
      "21 of 100. URL: https://medium.com/@barthbamasta/devenir-un-expert-en-seo-en-30min-7cd6d1e23de\n",
      "  Everything correct. Save article\n",
      "22 of 100. URL: https://medium.com/@randfish/moz-returns-to-seo-5a330c0e6eb2\n",
      "  Everything correct. Save article\n",
      "23 of 100. URL: https://medium.com/the-mission/overcome-the-google-gods-the-best-seo-learning-tools-d1de6b170e2\n",
      "  Everything correct. Save article\n",
      "24 of 100. URL: https://medium.com/@lucamug/spa-and-seo-is-googlebot-able-to-render-a-single-page-application-1f74e706ab11\n",
      "  Everything correct. Save article\n",
      "25 of 100. URL: https://medium.com/@cathyseo/the-product-designer-role-1299f675c638\n",
      "  Everything correct. Save article\n",
      "26 of 100. URL: https://towardsdatascience.com/medical-image-segmentation-part-1-unet-convolutional-networks-with-interactive-code-70f0f17f46c6\n",
      "  Everything correct. Save article\n",
      "27 of 100. URL: https://medium.com/@eytii/instagram-seo-%E7%B0%A1%E6%98%93%E4%B8%83%E6%92%87%E6%AD%A5-58ae831021b4\n",
      "  Everything correct. Save article\n",
      "28 of 100. URL: https://medium.com/madhash/20-must-know-facts-about-seo-23d523b031a1\n",
      "  Everything correct. Save article\n",
      "29 of 100. URL: https://medium.com/js-dojo/is-my-single-page-app-seo-friendly-be2c827f1c38\n",
      "  Everything correct. Save article\n",
      "30 of 100. URL: https://medium.com/swlh/the-secret-to-my-long-tail-seo-success-13f18285f633\n",
      "  Everything correct. Save article\n",
      "31 of 100. URL: https://medium.com/muddyum/in-search-of-the-meaning-of-seo-and-why-optimizing-matters-a-how-to-guide-7633dd568556\n",
      "  Everything correct. Save article\n",
      "32 of 100. URL: https://bettermarketing.pub/how-to-improve-your-seo-for-free-write-damn-good-content-dc06cc119772\n",
      "  Everything correct. Save article\n",
      "33 of 100. URL: https://towardsdatascience.com/understanding-2d-dilated-convolution-operation-with-examples-in-numpy-and-tensorflow-with-d376b3972b25\n",
      "  Everything correct. Save article\n",
      "34 of 100. URL: https://towardsdatascience.com/paper-summary-matrix-factorization-techniques-for-recommender-systems-82d1a7ace74\n",
      "  Everything correct. Save article\n",
      "35 of 100. URL: https://medium.com/pinterest-engineering/demystifying-seo-with-experiments-a183b325cf4c\n",
      "  Everything correct. Save article\n",
      "36 of 100. URL: https://medium.com/erianmarketing/%E6%96%87%E6%A1%88%E8%A6%81%E6%80%8E%E9%BA%BC%E6%B7%B1%E5%85%A5%E4%BA%BA%E5%BF%83-5%E6%AD%A5%E9%A9%9F%E8%A1%8C%E9%8A%B7%E6%96%87%E6%A1%88%E6%92%B0%E5%AF%AB%E6%8A%80%E5%B7%A7-%E4%B8%8D%E9%9D%A0%E9%9D%88%E6%84%9F%E5%B0%B1%E8%AE%93%E9%A1%A7%E5%AE%A2%E5%90%B8%E7%9D%9B%E8%B2%B7%E5%96%AE-%E6%8F%90%E5%8D%87seo%E6%8E%92%E5%90%8D-b820dd6c4700\n",
      "  Everything correct. Save article\n",
      "37 of 100. URL: https://medium.com/design-doordash/becoming-a-leader-as-a-first-generation-immigrant-4b9a883489dc\n",
      "  Everything correct. Save article\n",
      "38 of 100. URL: https://medium.com/codingthesmartway-com-blog/angular-seo-making-angular-6-single-page-web-apps-search-engine-friendly-c8ec4ff2f549\n",
      "  Everything correct. Save article\n",
      "39 of 100. URL: https://towardsdatascience.com/back-to-basics-deriving-back-propagation-on-simple-rnn-lstm-feat-aidan-gomez-c7f286ba973d\n",
      "  Everything correct. Save article\n",
      "40 of 100. URL: https://medium.com/binarcode/make-your-vue-js-application-seo-friendly-dea3d004a58c\n",
      "  Everything correct. Save article\n",
      "41 of 100. URL: https://codeburst.io/how-i-created-seo-friendly-portfolio-cv-website-and-hosted-it-on-github-d5c4da43cf2f\n",
      "  Everything correct. Save article\n",
      "42 of 100. URL: https://medium.com/@anth-oleinik/accessibility-is-bad-in-flutter-web-seo-is-bad-and-you-cant-even-highlight-text-e9121febdad7\n",
      "  Everything correct. Save article\n",
      "43 of 100. URL: https://medium.com/@seorankmybusiness/white-hat-seo-vs-black-hat-seo-whats-the-difference-62f31bb4af\n",
      "  Everything correct. Save article\n",
      "44 of 100. URL: https://medium.com/groupon-design-union/10-interview-tips-i-share-with-my-designer-candidates-bf982ed4e36a\n",
      "  Everything correct. Save article\n",
      "45 of 100. URL: https://towardsdatascience.com/my-take-on-microsoft-ai-interview-questions-with-interactive-code-part-1-c271388af633\n",
      "  Everything correct. Save article\n",
      "46 of 100. URL: https://bettermarketing.pub/being-a-remarkable-writer-means-ignoring-seo-40620ffa3981\n",
      "  Everything correct. Save article\n",
      "47 of 100. URL: https://medium.com/swlh/91-experts-share-the-most-effective-seo-tips-to-drive-traffic-to-your-website-expert-roundup-2c378143b16f\n",
      "  Everything correct. Save article\n",
      "48 of 100. URL: https://writingcooperative.com/seo-basics-for-thrifty-bloggers-869a53425fb9\n",
      "  Everything correct. Save article\n",
      "49 of 100. URL: https://bettermarketing.pub/how-i-ranked-on-page-1-without-any-seo-tools-60fa1d885738\n",
      "  Everything correct. Save article\n",
      "50 of 100. URL: https://medium.com/design-doordash/designing-a-career-ladder-for-product-design-8397bd31d3f2\n",
      "  Everything correct. Save article\n",
      "51 of 100. URL: https://medium.com/the-book-mechanic/breaking-news-you-missed-an-seo-change-to-the-medium-dashboard-da3a8561b6a6\n",
      "  Everything correct. Save article\n",
      "52 of 100. URL: https://medium.com/zaou/medium-seo-setting-google-search-386ef5777e75\n"
     ]
    },
    {
     "name": "stdout",
     "output_type": "stream",
     "text": [
      "  Everything correct. Save article\n",
      "53 of 100. URL: https://austenallred.com/medium-just-became-the-best-seo-platform-of-all-time-3548ddf0b65a\n"
     ]
    },
    {
     "ename": "TypeError",
     "evalue": "'NoneType' object is not subscriptable",
     "output_type": "error",
     "traceback": [
      "\u001b[1;31m---------------------------------------------------------------------------\u001b[0m",
      "\u001b[1;31mJSONDecodeError\u001b[0m                           Traceback (most recent call last)",
      "\u001b[1;32m~\\Google Drive\\Laboral\\Freelance\\Job2\\SEOArticlesScrapper\\src\\medium_scraper.py\u001b[0m in \u001b[0;36mscrape_medium_article\u001b[1;34m(cls, url)\u001b[0m\n\u001b[0;32m     63\u001b[0m         \u001b[1;32mtry\u001b[0m\u001b[1;33m:\u001b[0m\u001b[1;33m\u001b[0m\u001b[1;33m\u001b[0m\u001b[0m\n\u001b[1;32m---> 64\u001b[1;33m             \u001b[0mpage\u001b[0m \u001b[1;33m=\u001b[0m \u001b[0mjson\u001b[0m\u001b[1;33m.\u001b[0m\u001b[0mloads\u001b[0m\u001b[1;33m(\u001b[0m\u001b[0mpage_json\u001b[0m\u001b[1;33m)\u001b[0m\u001b[1;33m\u001b[0m\u001b[1;33m\u001b[0m\u001b[0m\n\u001b[0m\u001b[0;32m     65\u001b[0m             \u001b[0mtitle\u001b[0m\u001b[1;33m,\u001b[0m \u001b[0mauthor\u001b[0m\u001b[1;33m,\u001b[0m \u001b[0mparagraphs\u001b[0m \u001b[1;33m=\u001b[0m \u001b[0mcls\u001b[0m\u001b[1;33m.\u001b[0m\u001b[0mscrape_medium_article_in_json_format\u001b[0m\u001b[1;33m(\u001b[0m\u001b[0mpage\u001b[0m\u001b[1;33m)\u001b[0m\u001b[1;33m\u001b[0m\u001b[1;33m\u001b[0m\u001b[0m\n",
      "\u001b[1;32m~\\AppData\\Local\\Programs\\Python\\Python38\\lib\\json\\__init__.py\u001b[0m in \u001b[0;36mloads\u001b[1;34m(s, cls, object_hook, parse_float, parse_int, parse_constant, object_pairs_hook, **kw)\u001b[0m\n\u001b[0;32m    356\u001b[0m             parse_constant is None and object_pairs_hook is None and not kw):\n\u001b[1;32m--> 357\u001b[1;33m         \u001b[1;32mreturn\u001b[0m \u001b[0m_default_decoder\u001b[0m\u001b[1;33m.\u001b[0m\u001b[0mdecode\u001b[0m\u001b[1;33m(\u001b[0m\u001b[0ms\u001b[0m\u001b[1;33m)\u001b[0m\u001b[1;33m\u001b[0m\u001b[1;33m\u001b[0m\u001b[0m\n\u001b[0m\u001b[0;32m    358\u001b[0m     \u001b[1;32mif\u001b[0m \u001b[0mcls\u001b[0m \u001b[1;32mis\u001b[0m \u001b[1;32mNone\u001b[0m\u001b[1;33m:\u001b[0m\u001b[1;33m\u001b[0m\u001b[1;33m\u001b[0m\u001b[0m\n",
      "\u001b[1;32m~\\AppData\\Local\\Programs\\Python\\Python38\\lib\\json\\decoder.py\u001b[0m in \u001b[0;36mdecode\u001b[1;34m(self, s, _w)\u001b[0m\n\u001b[0;32m    336\u001b[0m         \"\"\"\n\u001b[1;32m--> 337\u001b[1;33m         \u001b[0mobj\u001b[0m\u001b[1;33m,\u001b[0m \u001b[0mend\u001b[0m \u001b[1;33m=\u001b[0m \u001b[0mself\u001b[0m\u001b[1;33m.\u001b[0m\u001b[0mraw_decode\u001b[0m\u001b[1;33m(\u001b[0m\u001b[0ms\u001b[0m\u001b[1;33m,\u001b[0m \u001b[0midx\u001b[0m\u001b[1;33m=\u001b[0m\u001b[0m_w\u001b[0m\u001b[1;33m(\u001b[0m\u001b[0ms\u001b[0m\u001b[1;33m,\u001b[0m \u001b[1;36m0\u001b[0m\u001b[1;33m)\u001b[0m\u001b[1;33m.\u001b[0m\u001b[0mend\u001b[0m\u001b[1;33m(\u001b[0m\u001b[1;33m)\u001b[0m\u001b[1;33m)\u001b[0m\u001b[1;33m\u001b[0m\u001b[1;33m\u001b[0m\u001b[0m\n\u001b[0m\u001b[0;32m    338\u001b[0m         \u001b[0mend\u001b[0m \u001b[1;33m=\u001b[0m \u001b[0m_w\u001b[0m\u001b[1;33m(\u001b[0m\u001b[0ms\u001b[0m\u001b[1;33m,\u001b[0m \u001b[0mend\u001b[0m\u001b[1;33m)\u001b[0m\u001b[1;33m.\u001b[0m\u001b[0mend\u001b[0m\u001b[1;33m(\u001b[0m\u001b[1;33m)\u001b[0m\u001b[1;33m\u001b[0m\u001b[1;33m\u001b[0m\u001b[0m\n",
      "\u001b[1;32m~\\AppData\\Local\\Programs\\Python\\Python38\\lib\\json\\decoder.py\u001b[0m in \u001b[0;36mraw_decode\u001b[1;34m(self, s, idx)\u001b[0m\n\u001b[0;32m    352\u001b[0m         \u001b[1;32mtry\u001b[0m\u001b[1;33m:\u001b[0m\u001b[1;33m\u001b[0m\u001b[1;33m\u001b[0m\u001b[0m\n\u001b[1;32m--> 353\u001b[1;33m             \u001b[0mobj\u001b[0m\u001b[1;33m,\u001b[0m \u001b[0mend\u001b[0m \u001b[1;33m=\u001b[0m \u001b[0mself\u001b[0m\u001b[1;33m.\u001b[0m\u001b[0mscan_once\u001b[0m\u001b[1;33m(\u001b[0m\u001b[0ms\u001b[0m\u001b[1;33m,\u001b[0m \u001b[0midx\u001b[0m\u001b[1;33m)\u001b[0m\u001b[1;33m\u001b[0m\u001b[1;33m\u001b[0m\u001b[0m\n\u001b[0m\u001b[0;32m    354\u001b[0m         \u001b[1;32mexcept\u001b[0m \u001b[0mStopIteration\u001b[0m \u001b[1;32mas\u001b[0m \u001b[0merr\u001b[0m\u001b[1;33m:\u001b[0m\u001b[1;33m\u001b[0m\u001b[1;33m\u001b[0m\u001b[0m\n",
      "\u001b[1;31mJSONDecodeError\u001b[0m: Expecting property name enclosed in double quotes: line 2 column 9 (char 10)",
      "\nDuring handling of the above exception, another exception occurred:\n",
      "\u001b[1;31mTypeError\u001b[0m                                 Traceback (most recent call last)",
      "\u001b[1;32m<ipython-input-2-bf41b80f9b18>\u001b[0m in \u001b[0;36m<module>\u001b[1;34m\u001b[0m\n\u001b[0;32m     10\u001b[0m \u001b[1;32mfor\u001b[0m \u001b[0mi\u001b[0m\u001b[1;33m,\u001b[0m \u001b[0murl\u001b[0m \u001b[1;32min\u001b[0m \u001b[0menumerate\u001b[0m\u001b[1;33m(\u001b[0m\u001b[0murls\u001b[0m\u001b[1;33m)\u001b[0m\u001b[1;33m:\u001b[0m\u001b[1;33m\u001b[0m\u001b[1;33m\u001b[0m\u001b[0m\n\u001b[0;32m     11\u001b[0m     \u001b[0mprint\u001b[0m\u001b[1;33m(\u001b[0m\u001b[1;34mf\"{i} of {num_urls}. URL: {url}\"\u001b[0m\u001b[1;33m)\u001b[0m\u001b[1;33m\u001b[0m\u001b[1;33m\u001b[0m\u001b[0m\n\u001b[1;32m---> 12\u001b[1;33m     \u001b[0marticle\u001b[0m \u001b[1;33m=\u001b[0m \u001b[0mMediumScraper\u001b[0m\u001b[1;33m.\u001b[0m\u001b[0mscrape_medium_article\u001b[0m\u001b[1;33m(\u001b[0m\u001b[0murl\u001b[0m\u001b[1;33m)\u001b[0m\u001b[1;33m\u001b[0m\u001b[1;33m\u001b[0m\u001b[0m\n\u001b[0m\u001b[0;32m     13\u001b[0m \u001b[1;33m\u001b[0m\u001b[0m\n\u001b[0;32m     14\u001b[0m     \u001b[1;32mif\u001b[0m \u001b[0marticle\u001b[0m\u001b[1;33m.\u001b[0m\u001b[0merror_code\u001b[0m \u001b[1;33m!=\u001b[0m \u001b[0mErrorCodes\u001b[0m\u001b[1;33m.\u001b[0m\u001b[0mOK\u001b[0m\u001b[1;33m:\u001b[0m\u001b[1;33m\u001b[0m\u001b[1;33m\u001b[0m\u001b[0m\n",
      "\u001b[1;32m~\\Google Drive\\Laboral\\Freelance\\Job2\\SEOArticlesScrapper\\src\\medium_scraper.py\u001b[0m in \u001b[0;36mscrape_medium_article\u001b[1;34m(cls, url)\u001b[0m\n\u001b[0;32m     65\u001b[0m             \u001b[0mtitle\u001b[0m\u001b[1;33m,\u001b[0m \u001b[0mauthor\u001b[0m\u001b[1;33m,\u001b[0m \u001b[0mparagraphs\u001b[0m \u001b[1;33m=\u001b[0m \u001b[0mcls\u001b[0m\u001b[1;33m.\u001b[0m\u001b[0mscrape_medium_article_in_json_format\u001b[0m\u001b[1;33m(\u001b[0m\u001b[0mpage\u001b[0m\u001b[1;33m)\u001b[0m\u001b[1;33m\u001b[0m\u001b[1;33m\u001b[0m\u001b[0m\n\u001b[0;32m     66\u001b[0m         \u001b[1;32mexcept\u001b[0m \u001b[0mJSONDecodeError\u001b[0m\u001b[1;33m:\u001b[0m\u001b[1;33m\u001b[0m\u001b[1;33m\u001b[0m\u001b[0m\n\u001b[1;32m---> 67\u001b[1;33m             \u001b[0mtitle\u001b[0m\u001b[1;33m,\u001b[0m \u001b[0mauthor\u001b[0m\u001b[1;33m,\u001b[0m \u001b[0mparagraphs\u001b[0m \u001b[1;33m=\u001b[0m \u001b[0mcls\u001b[0m\u001b[1;33m.\u001b[0m\u001b[0mscrape_medium_article_in_html_format\u001b[0m\u001b[1;33m(\u001b[0m\u001b[0mresponse\u001b[0m\u001b[1;33m.\u001b[0m\u001b[0mtext\u001b[0m\u001b[1;33m)\u001b[0m\u001b[1;33m\u001b[0m\u001b[1;33m\u001b[0m\u001b[0m\n\u001b[0m\u001b[0;32m     68\u001b[0m         \u001b[1;32mexcept\u001b[0m \u001b[0mException\u001b[0m\u001b[1;33m:\u001b[0m\u001b[1;33m\u001b[0m\u001b[1;33m\u001b[0m\u001b[0m\n\u001b[0;32m     69\u001b[0m             \u001b[1;32mreturn\u001b[0m \u001b[0mArticle\u001b[0m\u001b[1;33m(\u001b[0m\u001b[0murl\u001b[0m\u001b[1;33m=\u001b[0m\u001b[0murl_parsed\u001b[0m\u001b[1;33m.\u001b[0m\u001b[0mnetloc\u001b[0m\u001b[1;33m,\u001b[0m \u001b[0mpath\u001b[0m\u001b[1;33m=\u001b[0m\u001b[0murl_parsed\u001b[0m\u001b[1;33m.\u001b[0m\u001b[0mpath\u001b[0m\u001b[1;33m,\u001b[0m \u001b[0merror_code\u001b[0m\u001b[1;33m=\u001b[0m\u001b[0mErrorCodes\u001b[0m\u001b[1;33m.\u001b[0m\u001b[0mDECODING_ERROR\u001b[0m\u001b[1;33m)\u001b[0m\u001b[1;33m\u001b[0m\u001b[1;33m\u001b[0m\u001b[0m\n",
      "\u001b[1;32m~\\Google Drive\\Laboral\\Freelance\\Job2\\SEOArticlesScrapper\\src\\medium_scraper.py\u001b[0m in \u001b[0;36mscrape_medium_article_in_html_format\u001b[1;34m(page_html)\u001b[0m\n\u001b[0;32m     93\u001b[0m     \u001b[1;32mdef\u001b[0m \u001b[0mscrape_medium_article_in_html_format\u001b[0m\u001b[1;33m(\u001b[0m\u001b[0mpage_html\u001b[0m\u001b[1;33m)\u001b[0m\u001b[1;33m:\u001b[0m\u001b[1;33m\u001b[0m\u001b[1;33m\u001b[0m\u001b[0m\n\u001b[0;32m     94\u001b[0m         \u001b[0mpage\u001b[0m \u001b[1;33m=\u001b[0m \u001b[0mBeautifulSoup\u001b[0m\u001b[1;33m(\u001b[0m\u001b[0mpage_html\u001b[0m\u001b[1;33m)\u001b[0m\u001b[1;33m\u001b[0m\u001b[1;33m\u001b[0m\u001b[0m\n\u001b[1;32m---> 95\u001b[1;33m         \u001b[0mtitle\u001b[0m \u001b[1;33m=\u001b[0m \u001b[0mpage\u001b[0m\u001b[1;33m.\u001b[0m\u001b[0mfind\u001b[0m\u001b[1;33m(\u001b[0m\u001b[1;34m\"meta\"\u001b[0m\u001b[1;33m,\u001b[0m \u001b[0mattrs\u001b[0m\u001b[1;33m=\u001b[0m\u001b[1;33m{\u001b[0m\u001b[1;34m\"name\"\u001b[0m\u001b[1;33m:\u001b[0m \u001b[1;34m\"title\"\u001b[0m\u001b[1;33m}\u001b[0m\u001b[1;33m)\u001b[0m\u001b[1;33m[\u001b[0m\u001b[1;34m\"content\"\u001b[0m\u001b[1;33m]\u001b[0m\u001b[1;33m\u001b[0m\u001b[1;33m\u001b[0m\u001b[0m\n\u001b[0m\u001b[0;32m     96\u001b[0m         \u001b[0mauthor\u001b[0m \u001b[1;33m=\u001b[0m \u001b[0mpage\u001b[0m\u001b[1;33m.\u001b[0m\u001b[0mfind\u001b[0m\u001b[1;33m(\u001b[0m\u001b[1;34m\"meta\"\u001b[0m\u001b[1;33m,\u001b[0m \u001b[0mattrs\u001b[0m\u001b[1;33m=\u001b[0m\u001b[1;33m{\u001b[0m\u001b[1;34m\"name\"\u001b[0m\u001b[1;33m:\u001b[0m \u001b[1;34m\"author\"\u001b[0m\u001b[1;33m}\u001b[0m\u001b[1;33m)\u001b[0m\u001b[1;33m[\u001b[0m\u001b[1;34m\"content\"\u001b[0m\u001b[1;33m]\u001b[0m\u001b[1;33m\u001b[0m\u001b[1;33m\u001b[0m\u001b[0m\n\u001b[0;32m     97\u001b[0m         \u001b[0mparagraphs\u001b[0m \u001b[1;33m=\u001b[0m \u001b[0mpage\u001b[0m\u001b[1;33m.\u001b[0m\u001b[0mfind\u001b[0m\u001b[1;33m(\u001b[0m\u001b[1;34m\"article\"\u001b[0m\u001b[1;33m)\u001b[0m\u001b[1;33m.\u001b[0m\u001b[0mfindAll\u001b[0m\u001b[1;33m(\u001b[0m\u001b[0mtext\u001b[0m\u001b[1;33m=\u001b[0m\u001b[1;32mTrue\u001b[0m\u001b[1;33m)\u001b[0m\u001b[1;33m\u001b[0m\u001b[1;33m\u001b[0m\u001b[0m\n",
      "\u001b[1;31mTypeError\u001b[0m: 'NoneType' object is not subscriptable"
     ]
    }
   ],
   "source": [
    "from src.medium_scraper import MediumScraper\n",
    "from src.medium_scraper import ErrorCodes\n",
    "from src.article_manager import ArticleManager\n",
    "\n",
    "search_term = \"Search Engine Optimization\"\n",
    "article_manager = ArticleManager()\n",
    "\n",
    "urls, article_ids = MediumScraper.search_articles(search_term=\"SEO\", num_articles=100)\n",
    "num_urls = len(urls)\n",
    "for i, url in enumerate(urls):\n",
    "    print(f\"{i} of {num_urls}. URL: {url}\")\n",
    "    article = MediumScraper.scrape_medium_article(url)\n",
    "\n",
    "    if article.error_code != ErrorCodes.OK:\n",
    "        print(f\"  Error: {article.error_code}\")\n",
    "        continue\n",
    "        \n",
    "    print(\"  Everything correct. Save article\")\n",
    "    article_manager.save_article(article)\n",
    "        \n"
   ]
  },
  {
   "cell_type": "code",
   "execution_count": 12,
   "id": "fc5b27c1",
   "metadata": {},
   "outputs": [
    {
     "data": {
      "text/plain": [
       "<Response [404]>"
      ]
     },
     "execution_count": 12,
     "metadata": {},
     "output_type": "execute_result"
    }
   ],
   "source": [
    "response = requests.get(\"https://austenallred.com/medium-just-became-the-best-seo-platform-of-all-time-3548ddf0b65a\")\n",
    "response"
   ]
  },
  {
   "cell_type": "code",
   "execution_count": 11,
   "id": "bde83c6e",
   "metadata": {},
   "outputs": [
    {
     "data": {
      "text/plain": [
       "['SEO Secrets: Reverse-Engineering Google’s Algorithm']"
      ]
     },
     "execution_count": 11,
     "metadata": {},
     "output_type": "execute_result"
    }
   ],
   "source": [
    "url = \"https://medium.com/free-code-camp/seo-secrets-reverse-engineering-googles-algorithm-92fad4f5a39\"\n",
    "response = requests.get(url)\n",
    "page = BeautifulSoup(response.text, \"html.parser\")\n",
    "\n",
    "page.find(\"article\").find_all([\"p\", \"ul\", \"ol\", \"h1\", \"h2\", \"h3\", \"h4\"])[0].find_all(text=True)"
   ]
  }
 ],
 "metadata": {
  "kernelspec": {
   "display_name": "Python 3",
   "language": "python",
   "name": "python3"
  },
  "language_info": {
   "codemirror_mode": {
    "name": "ipython",
    "version": 3
   },
   "file_extension": ".py",
   "mimetype": "text/x-python",
   "name": "python",
   "nbconvert_exporter": "python",
   "pygments_lexer": "ipython3",
   "version": "3.8.5"
  },
  "toc": {
   "base_numbering": 1,
   "nav_menu": {},
   "number_sections": true,
   "sideBar": true,
   "skip_h1_title": false,
   "title_cell": "Table of Contents",
   "title_sidebar": "Contents",
   "toc_cell": true,
   "toc_position": {},
   "toc_section_display": true,
   "toc_window_display": false
  }
 },
 "nbformat": 4,
 "nbformat_minor": 5
}
